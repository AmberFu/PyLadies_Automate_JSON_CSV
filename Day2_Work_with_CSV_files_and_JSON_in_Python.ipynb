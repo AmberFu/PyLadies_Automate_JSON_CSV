{
 "cells": [
  {
   "cell_type": "markdown",
   "metadata": {
    "slideshow": {
     "slide_type": "slide"
    }
   },
   "source": [
    "# 生活中的程式 - Python自動化 02\n",
    "# Work with CSV files & JSON in Python\n",
    "\n",
    "## Pyladies Taiwan\n",
    "\n",
    "**Author : Olly\n",
    "<br>Speaker : Amber**\n",
    "\n",
    "#### 2018/05/27"
   ]
  },
  {
   "cell_type": "markdown",
   "metadata": {
    "slideshow": {
     "slide_type": "subslide"
    }
   },
   "source": [
    "# Rode Map\n",
    "\n",
    "* Book and AutomateTutorial\n",
    "\n",
    "* Basic and Environment\n",
    "\n",
    "* CSV\n",
    "\n",
    "* JSON\n",
    "\n",
    "* Project : Fetching Current Weather Data\n",
    "\n",
    "* Exercise"
   ]
  },
  {
   "cell_type": "markdown",
   "metadata": {
    "slideshow": {
     "slide_type": "slide"
    }
   },
   "source": [
    "# Book\n",
    "<img src='https://automatetheboringstuff.com/images/automate_cover_medium.png' height=\"150\"></img>\n",
    "\n",
    "* Automate the Boring Stuff with Python\n",
    "    * [Translated Book](https://www.tenlong.com.tw/products/9789864762729)\n",
    "    * [Online eBook](https://automatetheboringstuff.com/)\n",
    "    * [Online Course -Udemy](https://softnshare.wordpress.com/2016/11/23/automateboringstuffwithpython/)\n",
    "* Environment require Python 3.4+"
   ]
  },
  {
   "cell_type": "markdown",
   "metadata": {
    "slideshow": {
     "slide_type": "subslide"
    }
   },
   "source": [
    "# AutomateTutorial\n",
    "1. Work with Excel files in Python\n",
    "2. <b style='color:blue'>Work with CSV files and JSON in Python</b>\n",
    "3. Task Schedule\n",
    "4. Sending Email\n",
    "5. Control Mouse & Keyboard"
   ]
  },
  {
   "cell_type": "markdown",
   "metadata": {
    "collapsed": true,
    "slideshow": {
     "slide_type": "slide"
    }
   },
   "source": [
    "# Basic and Environment"
   ]
  },
  {
   "cell_type": "markdown",
   "metadata": {
    "collapsed": true,
    "slideshow": {
     "slide_type": "subslide"
    }
   },
   "source": [
    "# Contents:\n",
    "\n",
    "### 1. Basic python\n",
    "\n",
    "* Statement Assignment\n",
    "* print()\n",
    "* list/list slice\n",
    "* for loop + range\n",
    "* str()\n",
    "* [dict](http://tw.pyladies.com/~marsw/book_basic/basic_04.slides.html#/4)\n",
    "    * [Olly's github](https://github.com/iamshihshan/PyOllyTutorial/blob/master/01_Basic%20Python.ipynb)\n",
    "    * [tutorial slides by Mars](http://tw.pyladies.com/~marsw/book_basic/basic_01.slides.html#/)\n",
    "\n",
    "### 2. Third-party modules (Library)\n",
    "* [csv](https://docs.python.org/3/library/csv.html)\n",
    "* [json](https://docs.python.org/3/library/json.html)\n",
    "* [requests](http://docs.python-requests.org/en/master/)"
   ]
  },
  {
   "cell_type": "markdown",
   "metadata": {
    "slideshow": {
     "slide_type": "subslide"
    }
   },
   "source": [
    "# Install _Requests_ Module\n",
    "\n",
    "* [英文版參考文件](http://docs.python-requests.org/en/master/user/install/#install)\n",
    "* [中文版參考文件](http://docs.python-requests.org/zh_CN/latest/user/install.html#install)\n",
    "\n",
    "### If you have native python you can install module as  below :\n",
    "\n",
    "\n",
    "```sh\n",
    "pip install requests\n",
    "```\n",
    "\n",
    "### If you use conda you can install module as below :\n",
    "\n",
    "\n",
    "```sh\n",
    "conda install requests\n",
    "```"
   ]
  },
  {
   "cell_type": "markdown",
   "metadata": {
    "slideshow": {
     "slide_type": "subslide"
    }
   },
   "source": [
    "## If you can't install anyway...\n",
    "\n",
    "### repl.it\n",
    "\n",
    "到 [repl.it](https://repl.it/@AmberFu/csvjsonexample) frok 本次活動的專案\n",
    "\n",
    "* 注意：\n",
    "    * repl.it 會一次跑完整個指令\n",
    "    * 要看變數內容必須 print() 出來"
   ]
  },
  {
   "cell_type": "markdown",
   "metadata": {
    "slideshow": {
     "slide_type": "-"
    }
   },
   "source": [
    "### Google CoLab\n",
    "\n",
    "https://colab.research.google.com/drive/1P3eR4ql6HIgLsBQ7K2lCLEvujRTsJ8WG\n",
    "\n",
    "* 需要 google 帳號"
   ]
  },
  {
   "cell_type": "markdown",
   "metadata": {
    "slideshow": {
     "slide_type": "subslide"
    }
   },
   "source": [
    "\n",
    "# Check Modules Exist\n",
    "You don't need to install **csv** and **json**, because they are in [standard library](https://docs.python.org/3.5/tutorial/stdlib.html#brief-tour-of-the-standard-library).\n",
    "\n",
    "  \n",
    "\n",
    "**Check Without Error Message!!**\n",
    "\n",
    "```python\n",
    "import csv\n",
    "import json\n",
    "import requests\n",
    "```"
   ]
  },
  {
   "cell_type": "markdown",
   "metadata": {
    "slideshow": {
     "slide_type": "subslide"
    }
   },
   "source": [
    "# Let's Start!"
   ]
  },
  {
   "cell_type": "markdown",
   "metadata": {
    "slideshow": {
     "slide_type": "slide"
    }
   },
   "source": [
    "# CSV (Comma-separated values)"
   ]
  },
  {
   "cell_type": "markdown",
   "metadata": {
    "slideshow": {
     "slide_type": "slide"
    }
   },
   "source": [
    "# CSV (Comma-separated values)\n",
    "\n",
    "### **Everything is a string!**\n",
    "* Don’t have _types_ for their values\n",
    "* Don’t have settings for _font size_ or _color_\n",
    "* Don’t have multiple _worksheets_\n",
    "* Can’t specify cell _widths_ and _heights_\n",
    "* Can’t have _merged cells_\n",
    "* Can’t have _images_ or _charts_ embedded in them\n",
    "\n",
    "### Why csv?\n",
    "* Easy and Clear\n",
    "* Can open with Excel"
   ]
  },
  {
   "cell_type": "markdown",
   "metadata": {
    "slideshow": {
     "slide_type": "subslide"
    }
   },
   "source": [
    "# Create csv file Manually\n",
    "\n",
    "### Save as .csv file or download csv file [here](https://iamshihshan.github.io/PyOlly_AutomateTutorial/Docs/D2_01.csv)\n",
    "\n",
    "<img src=\"Imgs/csv_file.png\"></img>\n",
    "\n",
    "** Windows: Save as *.csv**\n",
    "\n",
    "![save file](https://iamshihshan.github.io/PyOlly_AutomateTutorial/Imgs/D2_01.JPG)"
   ]
  },
  {
   "cell_type": "markdown",
   "metadata": {
    "slideshow": {
     "slide_type": "subslide"
    }
   },
   "source": [
    "### Move the .csv file to the folder of Jupyter notebook\n",
    "Where is my Jupyter notebook folder? Use 'os.getcwd()' to check!"
   ]
  },
  {
   "cell_type": "code",
   "execution_count": 1,
   "metadata": {
    "slideshow": {
     "slide_type": "-"
    }
   },
   "outputs": [
    {
     "data": {
      "text/plain": [
       "'/home/amberfu/learn_CS/pythonAuto/PyLadies_Automate_JSON_CSV'"
      ]
     },
     "execution_count": 1,
     "metadata": {},
     "output_type": "execute_result"
    }
   ],
   "source": [
    "import os\n",
    "os.getcwd()"
   ]
  },
  {
   "cell_type": "markdown",
   "metadata": {
    "slideshow": {
     "slide_type": "subslide"
    }
   },
   "source": [
    "# Reader Objects\n",
    "\n",
    "### csv.reader(open(csvfile_path))\n",
    "\n",
    "[官方文件](https://docs.python.org/3/library/csv.html)"
   ]
  },
  {
   "cell_type": "code",
   "execution_count": 2,
   "metadata": {
    "slideshow": {
     "slide_type": "-"
    }
   },
   "outputs": [
    {
     "data": {
      "text/plain": [
       "<_csv.reader at 0x7f1b400e1898>"
      ]
     },
     "execution_count": 2,
     "metadata": {},
     "output_type": "execute_result"
    }
   ],
   "source": [
    "import csv\n",
    "exampleFile = open('D2_01.csv')\n",
    "exampleReader = csv.reader(exampleFile)\n",
    "exampleReader"
   ]
  },
  {
   "cell_type": "code",
   "execution_count": 3,
   "metadata": {
    "slideshow": {
     "slide_type": "-"
    }
   },
   "outputs": [
    {
     "data": {
      "text/plain": [
       "[['DateTime', 'Name', 'Age', 'Sex'],\n",
       " ['2018/1/1', 'Olly', '13', 'F'],\n",
       " ['2018/1/2', 'Ollier', '14', 'F'],\n",
       " ['2018/1/3', 'Oil', '12', 'M'],\n",
       " ['2018/1/4', 'Oba', '16', 'F'],\n",
       " ['2018/1/5', 'Oma', '17', 'M'],\n",
       " ['2018/1/6', 'Ohya', '18', 'F']]"
      ]
     },
     "execution_count": 3,
     "metadata": {},
     "output_type": "execute_result"
    }
   ],
   "source": [
    "exampleData = list(exampleReader)\n",
    "exampleData"
   ]
  },
  {
   "cell_type": "markdown",
   "metadata": {
    "slideshow": {
     "slide_type": "subslide"
    }
   },
   "source": [
    "## Access the value at a particular row and column with the expression:\n",
    "\n",
    "### exampleData[row][col]\n",
    "\n",
    "* **這邊的 [row] & [col] 從 0 開始！** (python array start from 0)"
   ]
  },
  {
   "cell_type": "code",
   "execution_count": 4,
   "metadata": {
    "slideshow": {
     "slide_type": "-"
    }
   },
   "outputs": [
    {
     "data": {
      "text/plain": [
       "'Name'"
      ]
     },
     "execution_count": 4,
     "metadata": {},
     "output_type": "execute_result"
    }
   ],
   "source": [
    "exampleData[0][1]"
   ]
  },
  {
   "cell_type": "code",
   "execution_count": 5,
   "metadata": {
    "slideshow": {
     "slide_type": "-"
    }
   },
   "outputs": [
    {
     "data": {
      "text/plain": [
       "'Olly'"
      ]
     },
     "execution_count": 5,
     "metadata": {},
     "output_type": "execute_result"
    }
   ],
   "source": [
    "exampleData[1][1]"
   ]
  },
  {
   "cell_type": "code",
   "execution_count": 6,
   "metadata": {
    "slideshow": {
     "slide_type": "-"
    }
   },
   "outputs": [
    {
     "data": {
      "text/plain": [
       "'2018/1/1'"
      ]
     },
     "execution_count": 6,
     "metadata": {},
     "output_type": "execute_result"
    }
   ],
   "source": [
    "exampleData[1][0]"
   ]
  },
  {
   "cell_type": "markdown",
   "metadata": {
    "slideshow": {
     "slide_type": "subslide"
    }
   },
   "source": [
    "## Reading Data from Reader Objects in a for Loop"
   ]
  },
  {
   "cell_type": "code",
   "execution_count": 7,
   "metadata": {
    "slideshow": {
     "slide_type": "-"
    }
   },
   "outputs": [
    {
     "name": "stdout",
     "output_type": "stream",
     "text": [
      "['DateTime', 'Name', 'Age', 'Sex']\n",
      "['2018/1/1', 'Olly', '13', 'F']\n",
      "['2018/1/2', 'Ollier', '14', 'F']\n",
      "['2018/1/3', 'Oil', '12', 'M']\n",
      "['2018/1/4', 'Oba', '16', 'F']\n",
      "['2018/1/5', 'Oma', '17', 'M']\n",
      "['2018/1/6', 'Ohya', '18', 'F']\n"
     ]
    }
   ],
   "source": [
    "import csv\n",
    "exampleFile = open('D2_01.csv')\n",
    "exampleReader = csv.reader(exampleFile)\n",
    "for row in exampleReader:\n",
    "        print(row)"
   ]
  },
  {
   "cell_type": "markdown",
   "metadata": {
    "slideshow": {
     "slide_type": "subslide"
    }
   },
   "source": [
    "## Get the current row number expression：\n",
    "\n",
    "### exampleReader.line_num\n",
    "\n",
    "* **這邊的 line_num 從 1 開始！** (csv 文件的行列數由 1 開始)"
   ]
  },
  {
   "cell_type": "code",
   "execution_count": 8,
   "metadata": {
    "slideshow": {
     "slide_type": "-"
    }
   },
   "outputs": [
    {
     "name": "stdout",
     "output_type": "stream",
     "text": [
      "Row #1 ['DateTime', 'Name', 'Age', 'Sex']\n",
      "Row #2 ['2018/1/1', 'Olly', '13', 'F']\n",
      "Row #3 ['2018/1/2', 'Ollier', '14', 'F']\n",
      "Row #4 ['2018/1/3', 'Oil', '12', 'M']\n",
      "Row #5 ['2018/1/4', 'Oba', '16', 'F']\n",
      "Row #6 ['2018/1/5', 'Oma', '17', 'M']\n",
      "Row #7 ['2018/1/6', 'Ohya', '18', 'F']\n"
     ]
    }
   ],
   "source": [
    "import csv\n",
    "exampleFile = open('D2_01.csv')\n",
    "exampleReader = csv.reader(exampleFile)\n",
    "\n",
    "for row in exampleReader:\n",
    "        print('Row #' + str(exampleReader.line_num) + ' ' + str(row))"
   ]
  },
  {
   "cell_type": "markdown",
   "metadata": {
    "slideshow": {
     "slide_type": "subslide"
    }
   },
   "source": [
    "# Writer Objects\n",
    "\n",
    "### csv_writer = csv.writer(open(csvfile_path, 'w', newline='' ))\n",
    "\n",
    "#### 一次寫__一筆__資料： \n",
    "> csv_writer.writerow(list)\n",
    "\n",
    "#### 一次寫__多筆__資料：\n",
    "> csv_writer.writerows(lists)"
   ]
  },
  {
   "cell_type": "markdown",
   "metadata": {
    "slideshow": {
     "slide_type": "subslide"
    }
   },
   "source": [
    "#### 一次寫__一筆__資料： \n",
    "> csv_writer.writerow(list)"
   ]
  },
  {
   "cell_type": "code",
   "execution_count": 9,
   "metadata": {
    "collapsed": true,
    "slideshow": {
     "slide_type": "-"
    }
   },
   "outputs": [],
   "source": [
    "# 一次寫一筆資料：\n",
    "import csv\n",
    "outputFile = open('D2_02.csv', 'w', newline='')\n",
    "outputWriter = csv.writer(outputFile)\n",
    "outputWriter.writerow(['dog', 'cat', 'bird'])\n",
    "outputWriter.writerow(['Hi, dog!', 'cat', 'bird'])\n",
    "outputWriter.writerow([1, 2, 3.14])\n",
    "\n",
    "outputFile.close()"
   ]
  },
  {
   "cell_type": "markdown",
   "metadata": {
    "slideshow": {
     "slide_type": "-"
    }
   },
   "source": [
    "### Automatically escapes the comma with csv module:\n",
    "\n",
    "<img src='Imgs/write_csv.png'></img>"
   ]
  },
  {
   "cell_type": "markdown",
   "metadata": {
    "slideshow": {
     "slide_type": "subslide"
    }
   },
   "source": [
    "#### 一次寫__多筆__資料：\n",
    "\n",
    "> csv_writer.writerows(lists)"
   ]
  },
  {
   "cell_type": "code",
   "execution_count": 10,
   "metadata": {
    "slideshow": {
     "slide_type": "-"
    }
   },
   "outputs": [
    {
     "data": {
      "text/plain": [
       "[['DateTime', 'Name', 'Age', 'Sex'],\n",
       " ['2018/1/1', 'Olly', '13', 'F'],\n",
       " ['2018/1/2', 'Ollier', '14', 'F'],\n",
       " ['2018/1/3', 'Oil', '12', 'M'],\n",
       " ['2018/1/4', 'Oba', '16', 'F'],\n",
       " ['2018/1/5', 'Oma', '17', 'M'],\n",
       " ['2018/1/6', 'Ohya', '18', 'F']]"
      ]
     },
     "execution_count": 10,
     "metadata": {},
     "output_type": "execute_result"
    }
   ],
   "source": [
    "# 先看一下資料：\n",
    "exampleData"
   ]
  },
  {
   "cell_type": "code",
   "execution_count": 11,
   "metadata": {
    "collapsed": true,
    "slideshow": {
     "slide_type": "-"
    }
   },
   "outputs": [],
   "source": [
    "import csv\n",
    "outputFile = open('D2_02_rows.csv', 'w', newline='')\n",
    "outputWriter = csv.writer(outputFile)\n",
    "outputWriter.writerows(exampleData)\n",
    "\n",
    "outputFile.close()\n"
   ]
  },
  {
   "cell_type": "markdown",
   "metadata": {
    "slideshow": {
     "slide_type": "subslide"
    }
   },
   "source": [
    "## Notice!\n",
    "\n",
    "If you forget to set the _newline argument_ on __Windows system__...\n",
    "\n",
    "Your row will be double-spaced!!!\n"
   ]
  },
  {
   "cell_type": "code",
   "execution_count": 12,
   "metadata": {
    "collapsed": true,
    "slideshow": {
     "slide_type": "-"
    }
   },
   "outputs": [],
   "source": [
    "import csv\n",
    "outputFile = open('D2_03.csv', 'w') # <-- forget to set the newline argument! (In Windows system)\n",
    "outputWriter = csv.writer(outputFile)\n",
    "outputWriter.writerow(['dog', 'cat', 'bird'])\n",
    "outputWriter.writerow(['Hi, dog!', 'cat', 'bird'])\n",
    "outputWriter.writerow([1, 2, 3.14])\n",
    "\n",
    "outputFile.close()"
   ]
  },
  {
   "cell_type": "markdown",
   "metadata": {
    "slideshow": {
     "slide_type": "-"
    }
   },
   "source": [
    "<img src='https://iamshihshan.github.io/PyOlly_AutomateTutorial/Imgs/D2_04.JPG'></img>"
   ]
  },
  {
   "cell_type": "markdown",
   "metadata": {
    "slideshow": {
     "slide_type": "subslide"
    }
   },
   "source": [
    "## The delimiter Keyword Arguments\n",
    "\n",
    "#### Changes the character between cells to a tab:\n",
    "\n",
    "**delimiter='\\t'**"
   ]
  },
  {
   "cell_type": "code",
   "execution_count": 13,
   "metadata": {
    "collapsed": true,
    "slideshow": {
     "slide_type": "-"
    }
   },
   "outputs": [],
   "source": [
    "import csv\n",
    "outputFile = open('D2_04.tsv', 'w', newline='')\n",
    "outputWriter = csv.writer(outputFile, delimiter='\\t') # <-- default is comma\n",
    "outputWriter.writerow(['dog', 'cat', 'bird'])\n",
    "outputWriter.writerow(['Hi, dog!', 'cat', 'bird'])\n",
    "outputWriter.writerow([1, 2, 3.14])\n",
    "\n",
    "outputFile.close()"
   ]
  },
  {
   "cell_type": "markdown",
   "metadata": {
    "slideshow": {
     "slide_type": "-"
    }
   },
   "source": [
    "<img src='Imgs/write_tsv.png'></img>"
   ]
  },
  {
   "cell_type": "markdown",
   "metadata": {
    "slideshow": {
     "slide_type": "slide"
    }
   },
   "source": [
    "# JSON (JavaScript Object Notation)"
   ]
  },
  {
   "cell_type": "markdown",
   "metadata": {
    "slideshow": {
     "slide_type": "slide"
    }
   },
   "source": [
    "# JSON (JavaScript Object Notation)\n",
    "\n",
    "* A popular way to format data as a single human-readable string\n",
    "* Many websites make their data available in JSON format, and offer APIs (Application Programming Interfaces ) for programs to use\n",
    "\n"
   ]
  },
  {
   "cell_type": "markdown",
   "metadata": {
    "slideshow": {
     "slide_type": "subslide"
    }
   },
   "source": [
    "## Reading JSON\n",
    "\n",
    "### To translate a string containing JSON data into a Python value :\n",
    "\n",
    "> string -> python object dict\n",
    "\n",
    "### json.loads()"
   ]
  },
  {
   "cell_type": "code",
   "execution_count": 14,
   "metadata": {
    "slideshow": {
     "slide_type": "-"
    }
   },
   "outputs": [
    {
     "data": {
      "text/plain": [
       "str"
      ]
     },
     "execution_count": 14,
     "metadata": {},
     "output_type": "execute_result"
    }
   ],
   "source": [
    "JasonString1 = '{\"name\": \"Olly\", \"Female\": true, \"Height\": 154, \"Weight\": null}'\n",
    "type(JasonString1)"
   ]
  },
  {
   "cell_type": "code",
   "execution_count": 15,
   "metadata": {
    "slideshow": {
     "slide_type": "-"
    }
   },
   "outputs": [
    {
     "data": {
      "text/plain": [
       "{'Female': True, 'Height': 154, 'Weight': None, 'name': 'Olly'}"
      ]
     },
     "execution_count": 15,
     "metadata": {},
     "output_type": "execute_result"
    }
   ],
   "source": [
    "import json\n",
    "JasonAsPyValue =json.loads(JasonString1)\n",
    "JasonAsPyValue"
   ]
  },
  {
   "cell_type": "code",
   "execution_count": 16,
   "metadata": {
    "slideshow": {
     "slide_type": "-"
    }
   },
   "outputs": [
    {
     "data": {
      "text/plain": [
       "dict"
      ]
     },
     "execution_count": 16,
     "metadata": {},
     "output_type": "execute_result"
    }
   ],
   "source": [
    "type(JasonAsPyValue)"
   ]
  },
  {
   "cell_type": "code",
   "execution_count": 17,
   "metadata": {
    "slideshow": {
     "slide_type": "-"
    }
   },
   "outputs": [
    {
     "data": {
      "text/plain": [
       "154"
      ]
     },
     "execution_count": 17,
     "metadata": {},
     "output_type": "execute_result"
    }
   ],
   "source": [
    "JasonAsPyValue['Height']"
   ]
  },
  {
   "cell_type": "markdown",
   "metadata": {
    "slideshow": {
     "slide_type": "subslide"
    }
   },
   "source": [
    "## Writing JSON\n",
    "\n",
    "### To translate a Python value into a string of JSON-formatted data :\n",
    "\n",
    "> python object dict -> string\n",
    "\n",
    "### json.dumps()"
   ]
  },
  {
   "cell_type": "code",
   "execution_count": 18,
   "metadata": {
    "slideshow": {
     "slide_type": "-"
    }
   },
   "outputs": [
    {
     "data": {
      "text/plain": [
       "dict"
      ]
     },
     "execution_count": 18,
     "metadata": {},
     "output_type": "execute_result"
    }
   ],
   "source": [
    "PyDict = {'Female': False, 'Height': None, 'Weight': 50, 'name': 'Ohbo'}\n",
    "type(PyDict)"
   ]
  },
  {
   "cell_type": "code",
   "execution_count": 19,
   "metadata": {
    "slideshow": {
     "slide_type": "-"
    }
   },
   "outputs": [
    {
     "data": {
      "text/plain": [
       "'{\"Female\": false, \"Height\": null, \"Weight\": 50, \"name\": \"Ohbo\"}'"
      ]
     },
     "execution_count": 19,
     "metadata": {},
     "output_type": "execute_result"
    }
   ],
   "source": [
    "import json\n",
    "PyDictAsJason = json.dumps(PyDict)\n",
    "PyDictAsJason"
   ]
  },
  {
   "cell_type": "code",
   "execution_count": 20,
   "metadata": {
    "slideshow": {
     "slide_type": "-"
    }
   },
   "outputs": [
    {
     "data": {
      "text/plain": [
       "str"
      ]
     },
     "execution_count": 20,
     "metadata": {},
     "output_type": "execute_result"
    }
   ],
   "source": [
    "type(PyDictAsJason)"
   ]
  },
  {
   "cell_type": "markdown",
   "metadata": {
    "collapsed": true,
    "slideshow": {
     "slide_type": "slide"
    }
   },
   "source": [
    "# Project : Fetching Current Weather Data"
   ]
  },
  {
   "cell_type": "markdown",
   "metadata": {
    "collapsed": true,
    "slideshow": {
     "slide_type": "fragment"
    }
   },
   "source": [
    "### Step 0 : Sign up to access specific Key for WeatherAPI\n",
    "### Step 1: Download the JSON Data\n",
    "### Step 2: Load JSON Data and Print Weather\n",
    "### Step 3 : Keep Weather Information as csv file"
   ]
  },
  {
   "cell_type": "markdown",
   "metadata": {
    "slideshow": {
     "slide_type": "fragment"
    }
   },
   "source": [
    "Sample API:\n",
    "https://samples.openweathermap.org/data/2.5/forecast/daily?id=524901&appid=b1b15e88fa797225412429c1c50c122a1"
   ]
  },
  {
   "cell_type": "markdown",
   "metadata": {
    "slideshow": {
     "slide_type": "subslide"
    }
   },
   "source": [
    "# Step 0 Sign up to access specific Key for WeatherAPI\n",
    "\n",
    "> 後面有提供範例檔案"
   ]
  },
  {
   "cell_type": "markdown",
   "metadata": {
    "collapsed": true,
    "slideshow": {
     "slide_type": "subslide"
    }
   },
   "source": [
    "### Enter [OpenWeatherMap](http://openweathermap.org/api) hit Sign Up\n",
    "\n",
    "![](https://iamshihshan.github.io/PyOlly_AutomateTutorial/Imgs/D2_06.JPG)"
   ]
  },
  {
   "cell_type": "markdown",
   "metadata": {
    "slideshow": {
     "slide_type": "subslide"
    }
   },
   "source": [
    "### Create personal account\n",
    "\n",
    "![](https://iamshihshan.github.io/PyOlly_AutomateTutorial/Imgs/D2_07.JPG)"
   ]
  },
  {
   "cell_type": "markdown",
   "metadata": {
    "slideshow": {
     "slide_type": "subslide"
    }
   },
   "source": [
    "### Find your personal API key after login\n",
    "\n",
    "![](https://iamshihshan.github.io/PyOlly_AutomateTutorial/Imgs/D2_08.JPG)"
   ]
  },
  {
   "cell_type": "markdown",
   "metadata": {
    "slideshow": {
     "slide_type": "subslide"
    }
   },
   "source": [
    "## There is the document for [Howt to Start](https://openweathermap.org/appid)\n",
    "\n",
    "<img src='Imgs/openweathermap1.png'></img>"
   ]
  },
  {
   "cell_type": "markdown",
   "metadata": {
    "slideshow": {
     "slide_type": "subslide"
    }
   },
   "source": [
    "# How to get the weather of Taipei?\n",
    "\n",
    "<img src='Imgs/openweathermap4.png'></img>"
   ]
  },
  {
   "cell_type": "markdown",
   "metadata": {
    "collapsed": true,
    "slideshow": {
     "slide_type": "subslide"
    }
   },
   "source": [
    "# Step 1: Download the JSON Data"
   ]
  },
  {
   "cell_type": "code",
   "execution_count": 21,
   "metadata": {
    "collapsed": true,
    "slideshow": {
     "slide_type": "-"
    }
   },
   "outputs": [],
   "source": [
    "import json, requests\n",
    "\n",
    "# 依照 API 說明放入： q=想查詢的城市名、 剛剛申請的 API Key\n",
    "location = 'Taipei'\n",
    "APPID = '2a2XXXdf24XXXXXXXXXXXXXXXX'\n",
    "url = 'http://api.openweathermap.org/data/2.5/weather?q=%s&APPID=%s'%(location, APPID)\n",
    "\n",
    "# 使用 requests package 取得 json 資料：\n",
    "response = requests.get(url)\n",
    "response.raise_for_status() # 如果發送了一個錯誤請求，可以通過 Response.raise_for_status() 來抛出異常"
   ]
  },
  {
   "cell_type": "markdown",
   "metadata": {
    "slideshow": {
     "slide_type": "-"
    }
   },
   "source": [
    "[補充] [快速上手 requests](http://docs.python-requests.org/zh_CN/latest/user/quickstart.html)"
   ]
  },
  {
   "cell_type": "markdown",
   "metadata": {
    "slideshow": {
     "slide_type": "subslide"
    }
   },
   "source": [
    "### 直接用網頁查看 API\n",
    "\n",
    "<img src='Imgs/taipei_rawdata.png'></img>\n",
    "\n",
    "### json 排版後：\n",
    "<img src='Imgs/taipei_weather.png' size=30 ></img>"
   ]
  },
  {
   "cell_type": "markdown",
   "metadata": {
    "collapsed": true,
    "slideshow": {
     "slide_type": "subslide"
    }
   },
   "source": [
    "# Step 2 : Load JSON Data and Print Weather\n",
    "\n",
    "## a. 由 API 讀取資料："
   ]
  },
  {
   "cell_type": "code",
   "execution_count": 22,
   "metadata": {
    "collapsed": true,
    "slideshow": {
     "slide_type": "-"
    }
   },
   "outputs": [],
   "source": [
    "# 用 json.loads() 讀取 API 資料：\n",
    "weatherData = json.loads(response.text)"
   ]
  },
  {
   "cell_type": "code",
   "execution_count": 23,
   "metadata": {
    "slideshow": {
     "slide_type": "-"
    }
   },
   "outputs": [
    {
     "data": {
      "text/plain": [
       "dict_keys(['coord', 'weather', 'base', 'main', 'visibility', 'wind', 'clouds', 'dt', 'sys', 'id', 'name', 'cod'])"
      ]
     },
     "execution_count": 23,
     "metadata": {},
     "output_type": "execute_result"
    }
   ],
   "source": [
    "# 查看資料有哪些欄位(key值)\n",
    "weatherData.keys()"
   ]
  },
  {
   "cell_type": "code",
   "execution_count": 24,
   "metadata": {
    "slideshow": {
     "slide_type": "-"
    }
   },
   "outputs": [
    {
     "data": {
      "text/plain": [
       "{'base': 'stations',\n",
       " 'clouds': {'all': 75},\n",
       " 'cod': 200,\n",
       " 'coord': {'lat': 25.04, 'lon': 121.56},\n",
       " 'dt': 1527327000,\n",
       " 'id': 1668341,\n",
       " 'main': {'humidity': 62,\n",
       "  'pressure': 1005,\n",
       "  'temp': 304.61,\n",
       "  'temp_max': 305.15,\n",
       "  'temp_min': 304.15},\n",
       " 'name': 'Taipei',\n",
       " 'sys': {'country': 'TW',\n",
       "  'id': 7479,\n",
       "  'message': 0.0054,\n",
       "  'sunrise': 1527282309,\n",
       "  'sunset': 1527331001,\n",
       "  'type': 1},\n",
       " 'visibility': 10000,\n",
       " 'weather': [{'description': 'broken clouds',\n",
       "   'icon': '04d',\n",
       "   'id': 803,\n",
       "   'main': 'Clouds'}],\n",
       " 'wind': {'deg': 280, 'speed': 5.7}}"
      ]
     },
     "execution_count": 24,
     "metadata": {},
     "output_type": "execute_result"
    }
   ],
   "source": [
    "weatherData"
   ]
  },
  {
   "cell_type": "markdown",
   "metadata": {
    "slideshow": {
     "slide_type": "subslide"
    }
   },
   "source": [
    "## b. 直接下載範例資料\n",
    "\n",
    "下載資料 [D2_json.txt](https://drive.google.com/open?id=1SmttpHoghB7Zmir8Js0pXw4BRNWUAtSm)\n",
    "\n",
    "> #### Move the file to the folder of Jupyter notebook\n",
    "> \n",
    "> Use __``` os.getcwd() ```__ to check!"
   ]
  },
  {
   "cell_type": "code",
   "execution_count": 25,
   "metadata": {
    "slideshow": {
     "slide_type": "-"
    }
   },
   "outputs": [
    {
     "data": {
      "text/plain": [
       "{'base': 'stations',\n",
       " 'clouds': {'all': 40},\n",
       " 'cod': 200,\n",
       " 'coord': {'lat': 25.04, 'lon': 121.56},\n",
       " 'dt': 1526785200,\n",
       " 'id': 1668341,\n",
       " 'main': {'humidity': 63,\n",
       "  'pressure': 1009,\n",
       "  'temp': 306.07,\n",
       "  'temp_max': 307.15,\n",
       "  'temp_min': 305.15},\n",
       " 'name': 'Taipei',\n",
       " 'sys': {'country': 'TW',\n",
       "  'id': 7479,\n",
       "  'message': 0.0125,\n",
       "  'sunrise': 1526764037,\n",
       "  'sunset': 1526812412,\n",
       "  'type': 1},\n",
       " 'visibility': 10000,\n",
       " 'weather': [{'description': 'scattered clouds',\n",
       "   'icon': '03d',\n",
       "   'id': 802,\n",
       "   'main': 'Clouds'}],\n",
       " 'wind': {'deg': 310, 'speed': 3.6}}"
      ]
     },
     "execution_count": 25,
     "metadata": {},
     "output_type": "execute_result"
    }
   ],
   "source": [
    "exampleJSONFile = open('D2_json.txt')\n",
    "weatherData = json.loads(exampleJSONFile.read())\n",
    "\n",
    "exampleJSONFile.close()\n",
    "\n",
    "weatherData"
   ]
  },
  {
   "cell_type": "markdown",
   "metadata": {
    "collapsed": true,
    "slideshow": {
     "slide_type": "subslide"
    }
   },
   "source": [
    "## Get information of 'City', 'Datetime' and 'Weather'\n",
    "\n",
    "* name : City name\n",
    "* dt : Time of data calculation, unix, UTC\n",
    "* weather.main : Group of weather parameters (Rain, Snow, Extreme etc.)\n",
    "* weather.description : Weather condition within the group"
   ]
  },
  {
   "cell_type": "code",
   "execution_count": 26,
   "metadata": {
    "slideshow": {
     "slide_type": "-"
    }
   },
   "outputs": [
    {
     "data": {
      "text/plain": [
       "'Taipei'"
      ]
     },
     "metadata": {},
     "output_type": "display_data"
    },
    {
     "data": {
      "text/plain": [
       "1526785200"
      ]
     },
     "metadata": {},
     "output_type": "display_data"
    },
    {
     "data": {
      "text/plain": [
       "{'description': 'scattered clouds', 'icon': '03d', 'id': 802, 'main': 'Clouds'}"
      ]
     },
     "metadata": {},
     "output_type": "display_data"
    }
   ],
   "source": [
    "city = weatherData['name']\n",
    "dt = weatherData['dt']\n",
    "weather = weatherData['weather'][0]\n",
    "\n",
    "display(\n",
    "    city,\n",
    "    dt,\n",
    "    weather\n",
    ")"
   ]
  },
  {
   "cell_type": "markdown",
   "metadata": {
    "slideshow": {
     "slide_type": "subslide"
    }
   },
   "source": [
    "### 將 UNIX 時間轉換成年月日：\n",
    "\n",
    "UTC [參考](https://zh.wikipedia.org/wiki/UNIX%E6%97%B6%E9%97%B4)"
   ]
  },
  {
   "cell_type": "code",
   "execution_count": 27,
   "metadata": {
    "slideshow": {
     "slide_type": "-"
    }
   },
   "outputs": [
    {
     "data": {
      "text/plain": [
       "'2018-05-20 11:00:00'"
      ]
     },
     "execution_count": 27,
     "metadata": {},
     "output_type": "execute_result"
    }
   ],
   "source": [
    "import datetime\n",
    "dtime = datetime.datetime.fromtimestamp(dt).strftime('%Y-%m-%d %H:%M:%S')\n",
    "dtime"
   ]
  },
  {
   "cell_type": "markdown",
   "metadata": {
    "slideshow": {
     "slide_type": "subslide"
    }
   },
   "source": [
    "### Part of json data：\n",
    "\n",
    "<img src='Imgs/taipei_weather_0.png'></img>\n",
    "\n",
    "What's the values of w_main and w_deac ?"
   ]
  },
  {
   "cell_type": "code",
   "execution_count": 28,
   "metadata": {
    "collapsed": true,
    "slideshow": {
     "slide_type": "-"
    }
   },
   "outputs": [],
   "source": [
    "w_main = weather['main']\n",
    "w_desc = weather['description']"
   ]
  },
  {
   "cell_type": "code",
   "execution_count": 29,
   "metadata": {
    "slideshow": {
     "slide_type": "fragment"
    }
   },
   "outputs": [
    {
     "data": {
      "text/plain": [
       "'Clouds'"
      ]
     },
     "metadata": {},
     "output_type": "display_data"
    },
    {
     "data": {
      "text/plain": [
       "'scattered clouds'"
      ]
     },
     "metadata": {},
     "output_type": "display_data"
    }
   ],
   "source": [
    "display(\n",
    "    w_main,\n",
    "    w_desc\n",
    ")"
   ]
  },
  {
   "cell_type": "markdown",
   "metadata": {
    "slideshow": {
     "slide_type": "subslide"
    }
   },
   "source": [
    "## Print current wheather information\n"
   ]
  },
  {
   "cell_type": "code",
   "execution_count": 30,
   "metadata": {
    "slideshow": {
     "slide_type": "-"
    }
   },
   "outputs": [
    {
     "name": "stdout",
     "output_type": "stream",
     "text": [
      "~~ Current Wheather ~~\n",
      "★ Location :\t Taipei\n",
      "★ Date Time :\t 2018-05-20 11:00:00\n",
      "★ Weather :\t Clouds - scattered clouds\n"
     ]
    }
   ],
   "source": [
    "print('~~ Current Wheather ~~')\n",
    "print('★ Location :\\t', city)\n",
    "print('★ Date Time :\\t', dtime)\n",
    "print('★ Weather :\\t', w_main, '-', w_desc)"
   ]
  },
  {
   "cell_type": "markdown",
   "metadata": {
    "slideshow": {
     "slide_type": "subslide"
    }
   },
   "source": [
    "# Step 3 : Keep Weather Information as csv file"
   ]
  },
  {
   "cell_type": "code",
   "execution_count": 12,
   "metadata": {
    "collapsed": true,
    "slideshow": {
     "slide_type": "-"
    }
   },
   "outputs": [],
   "source": [
    "import csv, json\n",
    "\n",
    "outputFile = open('D2_05.csv', 'w', newline='')\n",
    "outputWriter = csv.writer(outputFile)\n",
    "outputWriter.writerow([city, dtime, w_main, w_desc])\n",
    "\n",
    "outputFile.close()"
   ]
  },
  {
   "cell_type": "markdown",
   "metadata": {
    "slideshow": {
     "slide_type": "-"
    }
   },
   "source": [
    "查看匯出的 csv 檔案：\n",
    "![output file](https://iamshihshan.github.io/PyOlly_AutomateTutorial/Imgs/D2_10.JPG)"
   ]
  },
  {
   "cell_type": "markdown",
   "metadata": {
    "slideshow": {
     "slide_type": "slide"
    }
   },
   "source": [
    "# Exercise"
   ]
  },
  {
   "cell_type": "markdown",
   "metadata": {
    "slideshow": {
     "slide_type": "subslide"
    }
   },
   "source": [
    "## Work with CSV files & JSON in Python\n",
    "\n",
    "#### 寫一個 function ，包含下列功能：\n",
    "\n",
    "1. Import csv & json & requests\n",
    "2. Get 5/3hrs days weahter forecast result for Taipei from [OpenWeatherMap](https://openweathermap.org/forecast16)\n",
    "    * API call:\n",
    "    ```\n",
    "    http://api.openweathermap.org/data/2.5/forecast?q={city}&units=metric&APPID={APPID}\n",
    "    ```\n",
    "\n",
    "    * Parameters:\n",
    "        * q : city name\n",
    "        * units=metric : Temperature (Celsius)\n",
    "        * APPID : API Key\n",
    "3. Write data as csv file\n",
    "\n"
   ]
  },
  {
   "cell_type": "markdown",
   "metadata": {
    "slideshow": {
     "slide_type": "subslide"
    }
   },
   "source": [
    "#### 看一下需要處理的資料：\n",
    "\n",
    "<img src='Imgs/exercise_output_json.png'></img>"
   ]
  },
  {
   "cell_type": "markdown",
   "metadata": {
    "slideshow": {
     "slide_type": "subslide"
    }
   },
   "source": [
    "# Answer"
   ]
  },
  {
   "cell_type": "code",
   "execution_count": 31,
   "metadata": {
    "collapsed": true,
    "slideshow": {
     "slide_type": "fragment"
    }
   },
   "outputs": [],
   "source": [
    "import csv, json, requests, datetime\n",
    "\n",
    "def Forecast30hrs(location, csvfile_path, APPID):\n",
    "    # Use openweathermap API get json sting\n",
    "    url = 'http://api.openweathermap.org/data/2.5/forecast?q=%s&units=metric&APPID=%s' %(location, APPID)\n",
    "    response = requests.get(url)\n",
    "    response.raise_for_status()\n",
    "    # load json as dict()\n",
    "    weatherData = json.loads(response.text)\n",
    "    # Get weather information by the key of dict() \n",
    "    w = weatherData['list']\n",
    "    # Open csv file\n",
    "    outputFile = open(csvfile_path, 'w', newline='')\n",
    "    outputWriter = csv.writer(outputFile)\n",
    "    # Write column names\n",
    "    outputWriter.writerow(['Forecast datetime', 'Temp. Range (Celsius)', \\\n",
    "                           'Group of weather parameters', 'Weather condition within the group'])\n",
    "    for i in range(10):\n",
    "    # Get Forecast datetime, min/max daily temperature, main, description\n",
    "        dtime = datetime.datetime.fromtimestamp(w[i]['dt']).strftime('%Y-%m-%d %H:%M:%S')\n",
    "        temp_min = w[i]['main']['temp_min']\n",
    "        temp_max = w[i]['main']['temp_max']\n",
    "        main = w[i]['weather'][0]['main']\n",
    "        desc = w[i]['weather'][0]['description']\n",
    "        # Write rows into csv file\n",
    "        outputWriter.writerow([dtime, str(temp_min)+ ' - ' +str(temp_max), main, desc])\n",
    "    outputFile.close() "
   ]
  },
  {
   "cell_type": "markdown",
   "metadata": {
    "slideshow": {
     "slide_type": "subslide"
    }
   },
   "source": [
    "## Check your function:"
   ]
  },
  {
   "cell_type": "code",
   "execution_count": 32,
   "metadata": {
    "collapsed": true,
    "slideshow": {
     "slide_type": "-"
    }
   },
   "outputs": [],
   "source": [
    "location = 'Taipei'\n",
    "\n",
    "csvfile_path = 'D2_Exercise.csv'\n",
    "\n",
    "#APPID = 'fit your API key..._' # <-- FIT your key here!\n",
    "Forecast30hrs(location, csvfile_path, APPID)"
   ]
  },
  {
   "cell_type": "markdown",
   "metadata": {
    "slideshow": {
     "slide_type": "fragment"
    }
   },
   "source": [
    "### Check output file:\n",
    "\n",
    "<img src='Imgs/exercise_output.png'></img>"
   ]
  }
 ],
 "metadata": {
  "celltoolbar": "Slideshow",
  "kernelspec": {
   "display_name": "Python 3",
   "language": "python",
   "name": "python3"
  },
  "language_info": {
   "codemirror_mode": {
    "name": "ipython",
    "version": 3
   },
   "file_extension": ".py",
   "mimetype": "text/x-python",
   "name": "python",
   "nbconvert_exporter": "python",
   "pygments_lexer": "ipython3",
   "version": "3.6.3"
  }
 },
 "nbformat": 4,
 "nbformat_minor": 2
}
