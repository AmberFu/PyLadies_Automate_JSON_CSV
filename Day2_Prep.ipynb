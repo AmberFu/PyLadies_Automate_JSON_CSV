{
 "cells": [
  {
   "cell_type": "markdown",
   "metadata": {
    "slideshow": {
     "slide_type": "slide"
    }
   },
   "source": [
    "# 生活中的程式 - Python自動化 02 (課前準備)\n",
    "# Work with CSV files & JSON in Python\n",
    "\n",
    "## Pyladies Taiwan\n",
    "\n",
    "**Author : Olly\n",
    "<br>Speaker : Amber**\n",
    "\n",
    "#### 2018/05/27"
   ]
  },
  {
   "cell_type": "markdown",
   "metadata": {
    "slideshow": {
     "slide_type": "subslide"
    }
   },
   "source": [
    "# Book\n",
    "<img src='https://automatetheboringstuff.com/images/automate_cover_medium.png' height=\"150\"></img>\n",
    "\n",
    "* Automate the Boring Stuff with Python\n",
    "    * [Translated Book](https://www.tenlong.com.tw/products/9789864762729)\n",
    "    * [Online eBook](https://automatetheboringstuff.com/)\n",
    "    * [Online Course -Udemy](https://softnshare.wordpress.com/2016/11/23/automateboringstuffwithpython/)\n",
    "* Environment require __Python 3.4+__"
   ]
  },
  {
   "cell_type": "markdown",
   "metadata": {
    "collapsed": true,
    "slideshow": {
     "slide_type": "slide"
    }
   },
   "source": [
    "# Basic and Environment (請先安裝)"
   ]
  },
  {
   "cell_type": "markdown",
   "metadata": {
    "slideshow": {
     "slide_type": "subslide"
    }
   },
   "source": [
    "#  _Requests_ Module\n",
    "\n",
    "* [英文版參考文件](http://docs.python-requests.org/en/master/user/install/#install)\n",
    "* [中文版參考文件](http://docs.python-requests.org/zh_CN/latest/user/install.html#install)\n",
    "\n",
    "### If you have native python you can install module as  below :\n",
    "\n",
    "\n",
    "```sh\n",
    "pip install requests\n",
    "```\n",
    "\n",
    "### If you use conda you can install module as below :\n",
    "\n",
    "\n",
    "```sh\n",
    "conda install requests\n",
    "```"
   ]
  },
  {
   "cell_type": "markdown",
   "metadata": {
    "slideshow": {
     "slide_type": "subslide"
    }
   },
   "source": [
    "\n",
    "# Check Modules Exist\n",
    "You don't need to install **csv** and **json**, because they are in [standard library](https://docs.python.org/3.5/tutorial/stdlib.html#brief-tour-of-the-standard-library).\n",
    "\n",
    "  \n",
    "\n",
    "**Check Without Error Message!!**\n",
    "\n",
    "```python\n",
    "import csv\n",
    "import json\n",
    "import requests\n",
    "```"
   ]
  },
  {
   "cell_type": "markdown",
   "metadata": {
    "slideshow": {
     "slide_type": "subslide"
    }
   },
   "source": [
    "### If you can't install anyway...\n",
    "\n",
    "到 [repl.it](https://repl.it/@AmberFu/csvjsonexample) frok 我的專案\n",
    "\n",
    "* 注意：\n",
    "    * repl.it 會一次跑完整個指令\n",
    "    * 要看變數內容必須 print() 出來"
   ]
  },
  {
   "cell_type": "markdown",
   "metadata": {
    "slideshow": {
     "slide_type": "-"
    }
   },
   "source": [
    "### Google CoLab\n",
    "\n",
    "https://colab.research.google.com/drive/1P3eR4ql6HIgLsBQ7K2lCLEvujRTsJ8WG\n",
    "\n",
    "* 需要 google 帳號"
   ]
  },
  {
   "cell_type": "markdown",
   "metadata": {
    "collapsed": true,
    "slideshow": {
     "slide_type": "slide"
    }
   },
   "source": [
    "\n",
    "# Prepare for Project"
   ]
  },
  {
   "cell_type": "markdown",
   "metadata": {
    "collapsed": true,
    "slideshow": {
     "slide_type": "subslide"
    }
   },
   "source": [
    "## 1. 申請帳號：\n",
    "\n",
    "### Enter [OpenWeatherMap](http://openweathermap.org/api) hit Sign Up\n",
    "\n",
    "![](https://iamshihshan.github.io/PyOlly_AutomateTutorial/Imgs/D2_06.JPG)"
   ]
  },
  {
   "cell_type": "markdown",
   "metadata": {
    "slideshow": {
     "slide_type": "subslide"
    }
   },
   "source": [
    "### Create personal account\n",
    "\n",
    "![](https://iamshihshan.github.io/PyOlly_AutomateTutorial/Imgs/D2_07.JPG)"
   ]
  },
  {
   "cell_type": "markdown",
   "metadata": {
    "slideshow": {
     "slide_type": "subslide"
    }
   },
   "source": [
    "## 2. 取得 APPID\n",
    "\n",
    "![](https://iamshihshan.github.io/PyOlly_AutomateTutorial/Imgs/D2_08.JPG)\n"
   ]
  },
  {
   "cell_type": "markdown",
   "metadata": {
    "slideshow": {
     "slide_type": "subslide"
    }
   },
   "source": [
    "## 3. 用網頁查看 API\n",
    "\n",
    "> 點擊連結，填入剛剛取得的 APPID:\n",
    "> \n",
    "> http://api.openweathermap.org/data/2.5/weather?q=Taipei&APPID=填入剛剛取得的APPID\n",
    "\n",
    "<img src='Imgs/taipei_rawdata.png'></img>\n",
    "\n",
    "### json 排版後：\n",
    "<img src='Imgs/taipei_weather.png' size=30 ></img>"
   ]
  }
 ],
 "metadata": {
  "celltoolbar": "Slideshow",
  "kernelspec": {
   "display_name": "Python 3",
   "language": "python",
   "name": "python3"
  },
  "language_info": {
   "codemirror_mode": {
    "name": "ipython",
    "version": 3
   },
   "file_extension": ".py",
   "mimetype": "text/x-python",
   "name": "python",
   "nbconvert_exporter": "python",
   "pygments_lexer": "ipython3",
   "version": "3.6.3"
  }
 },
 "nbformat": 4,
 "nbformat_minor": 2
}
